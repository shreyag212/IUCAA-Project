{
 "cells": [
  {
   "cell_type": "code",
   "execution_count": 3,
   "id": "91dc62b1-aebc-4d56-9e18-002fd8a3aef0",
   "metadata": {},
   "outputs": [],
   "source": [
    "import numpy as np\n",
    "import matplotlib.pyplot as plt\n",
    "import pandas as pd\n",
    "import h5py\n",
    "from pycbc.types.timeseries import TimeSeries\n",
    "from tqdm import tqdm\n",
    "import math\n",
    "\n",
    "from tempgen import *\n",
    "import warnings\n",
    "warnings.filterwarnings(\"ignore\")"
   ]
  },
  {
   "cell_type": "code",
   "execution_count": 6,
   "id": "256e3dc8-4113-48e8-b6f3-8cae922b9570",
   "metadata": {},
   "outputs": [
    {
     "data": {
      "text/html": [
       "<div>\n",
       "<style scoped>\n",
       "    .dataframe tbody tr th:only-of-type {\n",
       "        vertical-align: middle;\n",
       "    }\n",
       "\n",
       "    .dataframe tbody tr th {\n",
       "        vertical-align: top;\n",
       "    }\n",
       "\n",
       "    .dataframe thead th {\n",
       "        text-align: right;\n",
       "    }\n",
       "</style>\n",
       "<table border=\"1\" class=\"dataframe\">\n",
       "  <thead>\n",
       "    <tr style=\"text-align: right;\">\n",
       "      <th></th>\n",
       "      <th>Qi</th>\n",
       "      <th>ri</th>\n",
       "      <th>M</th>\n",
       "      <th>amps</th>\n",
       "      <th>dur</th>\n",
       "    </tr>\n",
       "  </thead>\n",
       "  <tbody>\n",
       "    <tr>\n",
       "      <th>0</th>\n",
       "      <td>-8.0</td>\n",
       "      <td>1.0</td>\n",
       "      <td>1</td>\n",
       "      <td>2.451429e-14</td>\n",
       "      <td>1</td>\n",
       "    </tr>\n",
       "    <tr>\n",
       "      <th>1</th>\n",
       "      <td>-8.0</td>\n",
       "      <td>2.0</td>\n",
       "      <td>1</td>\n",
       "      <td>6.128572e-15</td>\n",
       "      <td>1</td>\n",
       "    </tr>\n",
       "    <tr>\n",
       "      <th>2</th>\n",
       "      <td>-8.0</td>\n",
       "      <td>3.0</td>\n",
       "      <td>1</td>\n",
       "      <td>2.723809e-15</td>\n",
       "      <td>1</td>\n",
       "    </tr>\n",
       "    <tr>\n",
       "      <th>3</th>\n",
       "      <td>-8.0</td>\n",
       "      <td>4.0</td>\n",
       "      <td>1</td>\n",
       "      <td>1.532142e-15</td>\n",
       "      <td>2</td>\n",
       "    </tr>\n",
       "    <tr>\n",
       "      <th>4</th>\n",
       "      <td>-8.0</td>\n",
       "      <td>5.0</td>\n",
       "      <td>1</td>\n",
       "      <td>9.805706e-16</td>\n",
       "      <td>3</td>\n",
       "    </tr>\n",
       "    <tr>\n",
       "      <th>...</th>\n",
       "      <td>...</td>\n",
       "      <td>...</td>\n",
       "      <td>...</td>\n",
       "      <td>...</td>\n",
       "      <td>...</td>\n",
       "    </tr>\n",
       "    <tr>\n",
       "      <th>75</th>\n",
       "      <td>-6.0</td>\n",
       "      <td>2.0</td>\n",
       "      <td>50</td>\n",
       "      <td>7.660711e-14</td>\n",
       "      <td>63</td>\n",
       "    </tr>\n",
       "    <tr>\n",
       "      <th>76</th>\n",
       "      <td>-6.0</td>\n",
       "      <td>3.0</td>\n",
       "      <td>50</td>\n",
       "      <td>3.404757e-14</td>\n",
       "      <td>211</td>\n",
       "    </tr>\n",
       "    <tr>\n",
       "      <th>77</th>\n",
       "      <td>-6.0</td>\n",
       "      <td>4.0</td>\n",
       "      <td>50</td>\n",
       "      <td>1.915174e-14</td>\n",
       "      <td>499</td>\n",
       "    </tr>\n",
       "    <tr>\n",
       "      <th>78</th>\n",
       "      <td>-6.0</td>\n",
       "      <td>5.0</td>\n",
       "      <td>50</td>\n",
       "      <td>1.225709e-14</td>\n",
       "      <td>972</td>\n",
       "    </tr>\n",
       "    <tr>\n",
       "      <th>79</th>\n",
       "      <td>-5.5</td>\n",
       "      <td>1.0</td>\n",
       "      <td>50</td>\n",
       "      <td>3.064281e-14</td>\n",
       "      <td>247</td>\n",
       "    </tr>\n",
       "  </tbody>\n",
       "</table>\n",
       "<p>80 rows × 5 columns</p>\n",
       "</div>"
      ],
      "text/plain": [
       "     Qi   ri   M          amps  dur\n",
       "0  -8.0  1.0   1  2.451429e-14    1\n",
       "1  -8.0  2.0   1  6.128572e-15    1\n",
       "2  -8.0  3.0   1  2.723809e-15    1\n",
       "3  -8.0  4.0   1  1.532142e-15    2\n",
       "4  -8.0  5.0   1  9.805706e-16    3\n",
       "..  ...  ...  ..           ...  ...\n",
       "75 -6.0  2.0  50  7.660711e-14   63\n",
       "76 -6.0  3.0  50  3.404757e-14  211\n",
       "77 -6.0  4.0  50  1.915174e-14  499\n",
       "78 -6.0  5.0  50  1.225709e-14  972\n",
       "79 -5.5  1.0  50  3.064281e-14  247\n",
       "\n",
       "[80 rows x 5 columns]"
      ]
     },
     "execution_count": 6,
     "metadata": {},
     "output_type": "execute_result"
    }
   ],
   "source": [
    "df = pd.read_csv('prop_durs.csv')\n",
    "df['dur'] = df['dur'].apply(math.ceil)\n",
    "df"
   ]
  },
  {
   "cell_type": "code",
   "execution_count": 9,
   "id": "aaacecf3-e80b-4170-bf97-52634cf3aacf",
   "metadata": {},
   "outputs": [],
   "source": [
    "hd = h5py.File('Prop_temps.hdf5', 'w')\n",
    "Hp = hd.create_group('Hp')\n",
    "Hc = hd.create_group('Hc')"
   ]
  },
  {
   "cell_type": "code",
   "execution_count": 10,
   "id": "f1565607-0799-4982-bf8a-d6f4adb7919b",
   "metadata": {},
   "outputs": [
    {
     "name": "stderr",
     "output_type": "stream",
     "text": [
      " 99%|██████████████████████████████████████████▍| 79/80 [11:05<00:08,  8.42s/it]\n"
     ]
    }
   ],
   "source": [
    "for i, z in zip(range(df.shape[0]), tqdm(range(df.shape[0]))):\n",
    "    \n",
    "    j=df.iloc[i]\n",
    "    m, ri, Qi = j['M']/2, j['ri'], j['Qi']\n",
    "    \n",
    "    hp, hc = get_wave(j['M']/2, j['M']/2, j['ri'], j['Qi'], duration = int(j['dur']), dt =1/512, acc=40, incor=True, Dl=0)\n",
    "    \n",
    "    dset = Hp.create_dataset(str(i), data=hp)\n",
    "    dset = Hc.create_dataset(str(i), data=hc)\n",
    "    \n",
    "    "
   ]
  },
  {
   "cell_type": "code",
   "execution_count": 11,
   "id": "b47fb4de-b512-4deb-bca0-4f3ea5d73d2d",
   "metadata": {},
   "outputs": [],
   "source": [
    "hd.attrs['M'] = list(df['M'])\n",
    "hd.attrs['ri'] = list(df['ri'])\n",
    "hd.attrs['Qi'] = list(df['Qi'])\n",
    "hd.close()"
   ]
  },
  {
   "cell_type": "code",
   "execution_count": null,
   "id": "18cb8e26-e7a3-4758-b62e-16172c40b63e",
   "metadata": {},
   "outputs": [],
   "source": []
  },
  {
   "cell_type": "code",
   "execution_count": null,
   "id": "852bb663-0264-4839-ab86-6ea246bf06bc",
   "metadata": {},
   "outputs": [],
   "source": []
  },
  {
   "cell_type": "code",
   "execution_count": null,
   "id": "0690a5b0-cde6-4558-a98a-cdd9af5d248c",
   "metadata": {},
   "outputs": [],
   "source": []
  },
  {
   "cell_type": "code",
   "execution_count": null,
   "id": "47dd717e-360e-441e-a793-dc614cbae06f",
   "metadata": {},
   "outputs": [],
   "source": []
  },
  {
   "cell_type": "code",
   "execution_count": null,
   "id": "6dd75ac0-ca72-4936-b522-4afc74d73462",
   "metadata": {},
   "outputs": [],
   "source": []
  }
 ],
 "metadata": {
  "kernelspec": {
   "display_name": "Python 3 (ipykernel)",
   "language": "python",
   "name": "python3"
  },
  "language_info": {
   "codemirror_mode": {
    "name": "ipython",
    "version": 3
   },
   "file_extension": ".py",
   "mimetype": "text/x-python",
   "name": "python",
   "nbconvert_exporter": "python",
   "pygments_lexer": "ipython3",
   "version": "3.9.16"
  }
 },
 "nbformat": 4,
 "nbformat_minor": 5
}
