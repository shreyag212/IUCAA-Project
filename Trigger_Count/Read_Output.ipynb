{
 "cells": [
  {
   "cell_type": "code",
   "execution_count": 8,
   "id": "0f63e321-5bda-40c6-ad25-41c060440748",
   "metadata": {},
   "outputs": [],
   "source": [
    "import numpy as np\n",
    "import matplotlib.pyplot as plt\n",
    "import h5py\n",
    "from tqdm import tqdm\n",
    "\n",
    "import sys\n",
    "\n",
    "## Path for Dataset\n",
    "path = ''\n",
    "sys.path.insert(0, path)"
   ]
  },
  {
   "cell_type": "code",
   "execution_count": 2,
   "id": "515f217c-3215-4ac3-850c-a1e79d526fa2",
   "metadata": {},
   "outputs": [
    {
     "data": {
      "text/plain": [
       "<HDF5 file \"coincs.hdf5\" (mode r)>"
      ]
     },
     "execution_count": 2,
     "metadata": {},
     "output_type": "execute_result"
    }
   ],
   "source": [
    "read = h5py.File(path + 'coincs.hdf5')\n",
    "read"
   ]
  },
  {
   "cell_type": "code",
   "execution_count": 3,
   "id": "133683b9-14b6-4d7d-995b-f829bccf5554",
   "metadata": {},
   "outputs": [
    {
     "name": "stdout",
     "output_type": "stream",
     "text": [
      "H1 <HDF5 group \"/H1\" (2 members)>\n",
      "L1 <HDF5 group \"/L1\" (2 members)>\n",
      "decimation_factor <HDF5 dataset \"decimation_factor\": shape (1089453,), type \"<f8\">\n",
      "segments <HDF5 group \"/segments\" (1 members)>\n",
      "stat <HDF5 dataset \"stat\": shape (1089453,), type \"<f4\">\n",
      "template_id <HDF5 dataset \"template_id\": shape (1089453,), type \"<i8\">\n",
      "timeslide_id <HDF5 dataset \"timeslide_id\": shape (1089453,), type \"<i4\">\n"
     ]
    }
   ],
   "source": [
    "keys = read.keys()\n",
    "\n",
    "for k in keys:\n",
    "    print(k, read[k])"
   ]
  },
  {
   "cell_type": "code",
   "execution_count": 4,
   "id": "72604bf7-6fd4-4aa7-a677-26946d31b8e2",
   "metadata": {},
   "outputs": [
    {
     "name": "stdout",
     "output_type": "stream",
     "text": [
      "time <HDF5 dataset \"time\": shape (1089453,), type \"<f8\">\n",
      "trigger_id <HDF5 dataset \"trigger_id\": shape (1089453,), type \"<i8\">\n"
     ]
    }
   ],
   "source": [
    "H1 = read['H1']\n",
    "\n",
    "keys = H1.keys()\n",
    "\n",
    "for k in keys:\n",
    "    print(k, H1[k])"
   ]
  },
  {
   "cell_type": "code",
   "execution_count": 5,
   "id": "6e89d60a-628a-4fd4-ba65-e1448f77a9b5",
   "metadata": {},
   "outputs": [
    {
     "name": "stderr",
     "output_type": "stream",
     "text": [
      "100%|████████████████████████████████████████▊| 235/236 [00:42<00:00,  5.50it/s]\n"
     ]
    }
   ],
   "source": [
    "write = h5py.File(path + 'Coinc_wf.hdf5', 'w')\n",
    "\n",
    "htw = write.create_group('Htrig')\n",
    "ltw = write.create_group('Ltrig')\n",
    "statw = write.create_group('stat')\n",
    "\n",
    "tids = np.array(read['template_id'])\n",
    "Htrigs = np.array(read['H1']['time'])\n",
    "Ltrigs = np.array(read['L1']['time'])\n",
    "stat = np.array(read['stat'])\n",
    "for i, z in zip(range(236), tqdm(range(236))):\n",
    "    \n",
    "    Ht = []\n",
    "    Lt = []\n",
    "    st = []\n",
    "    for j in range(len(tids)):\n",
    "        temp = tids[j]\n",
    "        \n",
    "        if temp == i:\n",
    "            Ht.append(Htrigs[j])\n",
    "            Lt.append(Ltrigs[j])\n",
    "            st.append(stat[j])\n",
    "    \n",
    "    dset = htw.create_dataset(str(i), data=np.array(Ht))\n",
    "    dset = ltw.create_dataset(str(i), data=np.array(Lt))\n",
    "    dset = statw.create_dataset(str(i), data=np.array(st))\n",
    "            \n",
    "write.close()"
   ]
  },
  {
   "cell_type": "code",
   "execution_count": 6,
   "id": "0efb1f57-c6be-44b6-b8cd-d12f9dcda80d",
   "metadata": {},
   "outputs": [
    {
     "name": "stdout",
     "output_type": "stream",
     "text": [
      "4.9508576 13.595966 5.7077193 0.49645683\n"
     ]
    },
    {
     "data": {
      "image/png": "[encoded data removed]",
      "text/plain": [
       "<Figure size 432x288 with 1 Axes>"
      ]
     },
     "metadata": {
      "needs_background": "light"
     },
     "output_type": "display_data"
    }
   ],
   "source": [
    "plt.hist(stat, bins=50)\n",
    "plt.yscale('log')\n",
    "print(min(stat), max(stat), np.mean(stat), np.std(stat))"
   ]
  }
 ],
 "metadata": {
  "kernelspec": {
   "display_name": "Python 3 (ipykernel)",
   "language": "python",
   "name": "python3"
  },
  "language_info": {
   "codemirror_mode": {
    "name": "ipython",
    "version": 3
   },
   "file_extension": ".py",
   "mimetype": "text/x-python",
   "name": "python",
   "nbconvert_exporter": "python",
   "pygments_lexer": "ipython3",
   "version": "3.9.12"
  }
 },
 "nbformat": 4,
 "nbformat_minor": 5
}
