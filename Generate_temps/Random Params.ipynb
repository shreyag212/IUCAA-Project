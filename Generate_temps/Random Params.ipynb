{
 "cells": [
  {
   "cell_type": "code",
   "execution_count": 1,
   "id": "f0e81319-5028-4032-a2de-0936b414efd6",
   "metadata": {},
   "outputs": [],
   "source": [
    "import numpy as np\n",
    "import pandas as pd\n",
    "\n",
    "import matplotlib.pyplot as plt\n",
    "from jupyterthemes import jtplot\n",
    "jtplot.style(theme='monokai', context='notebook', ticks=True, grid=False)"
   ]
  },
  {
   "cell_type": "code",
   "execution_count": 2,
   "id": "d8525d64-08e3-4cf7-ac9c-720931839dab",
   "metadata": {},
   "outputs": [],
   "source": [
    "path = r'/home/shrey/Desktop/git_repo/Data/'"
   ]
  },
  {
   "cell_type": "code",
   "execution_count": 3,
   "id": "9c86e632-530b-4229-996c-f7f1e66d8a26",
   "metadata": {},
   "outputs": [],
   "source": [
    "ri = np.random.uniform(low=0.01, high=6, size=(60,))\n",
    "Qi = np.random.uniform(low=-7.5, high=-3.03, size=(60,))"
   ]
  },
  {
   "cell_type": "code",
   "execution_count": null,
   "id": "da17f67e-e838-4543-95e3-ab807be14a6f",
   "metadata": {},
   "outputs": [
    {
     "ename": "NameError",
     "evalue": "name 'plt' is not defined",
     "output_type": "error",
     "traceback": [
      "\u001b[0;31m---------------------------------------------------------------------------\u001b[0m",
      "\u001b[0;31mNameError\u001b[0m                                 Traceback (most recent call last)",
      "Input \u001b[0;32mIn [1]\u001b[0m, in \u001b[0;36m<cell line: 1>\u001b[0;34m()\u001b[0m\n\u001b[0;32m----> 1\u001b[0m \u001b[43mplt\u001b[49m\u001b[38;5;241m.\u001b[39mscatter(ri, Qi, c\u001b[38;5;241m=\u001b[39m\u001b[38;5;124m'\u001b[39m\u001b[38;5;124mw\u001b[39m\u001b[38;5;124m'\u001b[39m)\n\u001b[1;32m      3\u001b[0m plt\u001b[38;5;241m.\u001b[39mtitle(\u001b[38;5;124m'\u001b[39m\u001b[38;5;124mQi-ri Param Space\u001b[39m\u001b[38;5;124m'\u001b[39m, fontweight \u001b[38;5;241m=\u001b[39m \u001b[38;5;124m'\u001b[39m\u001b[38;5;124mbold\u001b[39m\u001b[38;5;124m'\u001b[39m, fontsize\u001b[38;5;241m=\u001b[39m\u001b[38;5;241m19\u001b[39m)\n\u001b[1;32m      5\u001b[0m plt\u001b[38;5;241m.\u001b[39mylabel(\u001b[38;5;124m'\u001b[39m\u001b[38;5;124mlog10(Qi)\u001b[39m\u001b[38;5;124m'\u001b[39m, fontsize\u001b[38;5;241m=\u001b[39m\u001b[38;5;241m19\u001b[39m)\n",
      "\u001b[0;31mNameError\u001b[0m: name 'plt' is not defined"
     ]
    }
   ],
   "source": [
    "plt.scatter(ri, Qi, c='b')\n",
    "\n",
    "plt.title('Qi-ri Param Space', fontweight = 'bold', fontsize=19)\n",
    "\n",
    "plt.ylabel('log10(Qi)', fontsize=19)\n",
    "plt.xlabel('ri (pc)', fontsize=19)"
   ]
  },
  {
   "cell_type": "code",
   "execution_count": 5,
   "id": "576b37fc-7ae2-4aa8-88f7-bcc629c7ab86",
   "metadata": {},
   "outputs": [],
   "source": [
    "df = pd.DataFrame()\n",
    "df['ri'] = ri\n",
    "df['Qi'] = Qi\n",
    "\n",
    "df.to_csv(path + 'Params.csv', index=False)"
   ]
  }
 ],
 "metadata": {
  "kernelspec": {
   "display_name": "Python 3 (ipykernel)",
   "language": "python",
   "name": "python3"
  },
  "language_info": {
   "codemirror_mode": {
    "name": "ipython",
    "version": 3
   },
   "file_extension": ".py",
   "mimetype": "text/x-python",
   "name": "python",
   "nbconvert_exporter": "python",
   "pygments_lexer": "ipython3",
   "version": "3.9.12"
  }
 },
 "nbformat": 4,
 "nbformat_minor": 5
}
